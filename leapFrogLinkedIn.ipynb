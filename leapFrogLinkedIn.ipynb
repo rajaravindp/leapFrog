{
 "cells": [
  {
   "cell_type": "code",
   "execution_count": null,
   "metadata": {},
   "outputs": [],
   "source": [
    "# Import requried libraries\n",
    "from selenium import webdriver\n",
    "from selenium.webdriver.common.by import By\n",
    "from webdriver_manager.chrome import ChromeDriverManager\n",
    "from selenium.webdriver.chrome.service import Service\n",
    "import time"
   ]
  },
  {
   "cell_type": "code",
   "execution_count": null,
   "metadata": {},
   "outputs": [],
   "source": [
    "# Define the LinkedInBot class\n",
    "class LinkedInBot():\n",
    "    # Define the init method\n",
    "    def __init__(self, email, password):\n",
    "        # Define the path to the Chrome driver\n",
    "        service = Service(executable_path='C://Users/Aravind/Downloads/chromedriver-win64/chromedriver-win64/chromedriver.exe')\n",
    "        # Options for Chrome driver\n",
    "        options = webdriver.ChromeOptions()\n",
    "        # Create a new instance of the Chrome driver\n",
    "        self.driver = webdriver.Chrome(service=service, options=options)\n",
    "\n",
    "        # Navigate to the LinkedIn login page\n",
    "        # 1 keyword search - Examples: Analyst, Recruiter, Manager, etc.\n",
    "        # self.driver.get('https://www.linkedin.com/company/{your company - eg. Apple}/people/?keywords={your position - eg. Recruiter}')\n",
    "        # 2 keyword locate - Examples: Data Analyst, Data Engineer, Senior Recruiter, etc.\n",
    "        # driver.get('https://www.linkedin.com/company/{your company - eg. Apple}/people/?keywords={keyword 1 - eg. data}%20{keyword 2 - eg. analyst}')\n",
    "\n",
    "        # Enter the email and password and click the \"Sign in\" button\n",
    "        email_field = self.driver.find_element(By.ID, 'username')\n",
    "        email_field.send_keys(email)\n",
    "        time.sleep(2)\n",
    "        password_field = self.driver.find_element(By.ID, 'password')\n",
    "        password_field.send_keys(password)\n",
    "        time.sleep(2)\n",
    "        signin_button = self.driver.find_element(By.XPATH, \"//button[@type='submit']\")\n",
    "        signin_button.click()\n",
    "        time.sleep(3)\n",
    "    \n",
    "    # Define method to locate links\n",
    "    def locate_links(self):\n",
    "        # Find the unordered list element\n",
    "        ul_element = self.driver.find_element(By.XPATH, \"//ul[@class='display-flex list-style-none flex-wrap']\")\n",
    "\n",
    "        # Find all the a elements within the li elements of the unordered list and extract their href attributes\n",
    "        hrefs = [a.get_attribute(\"href\") for a in ul_element.find_elements(By.XPATH, \".//li//a\")]\n",
    "\n",
    "        # Remove duplicates from the hrefs list\n",
    "        link_list = list(set(hrefs))\n",
    "\n",
    "        # Close the browser window\n",
    "        self.driver.quit()\n",
    "\n",
    "        return link_list\n",
    "\n",
    "    # Define method to send connection requests\n",
    "    def send_connection_requests(self, links, message):\n",
    "        for link in links:\n",
    "            # Navigate to the profile page\n",
    "            self.driver.get(link)\n",
    "            time.sleep(3)\n",
    "\n",
    "            # Click the \"Connect\" button\n",
    "            connect_button = self.driver.find_element(By.XPATH, \"(//li-icon[@type='connect'])[2]\")\n",
    "            connect_button.click()\n",
    "            time.sleep(3)\n",
    "\n",
    "            # Click the \"Add a note\" button\n",
    "            add_note_button = self.driver.find_element(By.XPATH, \"//button[normalize-space()='Add a note']\")\n",
    "            add_note_button.click()\n",
    "            time.sleep(3)\n",
    "\n",
    "            # Enter the message and click the \"Send\" button\n",
    "            message_field = self.driver.find_element(By.XPATH, \"//textarea[@name='message']\")\n",
    "            message_field.send_keys(message)\n",
    "            time.sleep(5)\n",
    "            send_button = self.driver.find_element(By.XPATH, \"//button[normalize-space()='Send']\")\n",
    "            send_button.click()\n",
    "            time.sleep(3)\n",
    "\n",
    "        # Close the browser window\n",
    "        self.driver.quit()"
   ]
  },
  {
   "cell_type": "code",
   "execution_count": null,
   "metadata": {},
   "outputs": [],
   "source": [
    "# Enter your email\n",
    "### email = '{your email}'\n",
    "# Enter your password\n",
    "### password = '{your password}'\n",
    "\n",
    "# Create a new instance of the bot\n",
    "bot = LinkedInBot(email, password)\n",
    "# Locate all the profile links\n",
    "links_located = bot.locate_links()\n",
    "# Print the profile links\n",
    "print(links_located)"
   ]
  },
  {
   "cell_type": "code",
   "execution_count": null,
   "metadata": {},
   "outputs": [],
   "source": [
    "# Send connection requests with a custom message\n",
    "message = \"Hi, I would like to connect!\"\n",
    "bot.send_connection_requests(links, message)"
   ]
  }
 ],
 "metadata": {
  "kernelspec": {
   "display_name": "Python 3",
   "language": "python",
   "name": "python3"
  },
  "language_info": {
   "codemirror_mode": {
    "name": "ipython",
    "version": 3
   },
   "file_extension": ".py",
   "mimetype": "text/x-python",
   "name": "python",
   "nbconvert_exporter": "python",
   "pygments_lexer": "ipython3",
   "version": "3.9.12"
  }
 },
 "nbformat": 4,
 "nbformat_minor": 2
}
