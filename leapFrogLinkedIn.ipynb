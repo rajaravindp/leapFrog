{
 "cells": [
  {
   "cell_type": "code",
   "execution_count": 1,
   "metadata": {},
   "outputs": [],
   "source": [
    "from selenium import webdriver\n",
    "from selenium.webdriver.common.by import By\n",
    "from webdriver_manager.chrome import ChromeDriverManager\n",
    "from selenium.webdriver.chrome.service import Service\n",
    "import time"
   ]
  },
  {
   "cell_type": "code",
   "execution_count": null,
   "metadata": {},
   "outputs": [],
   "source": [
    "class Webscraper():\n",
    "    def locate_links(self):\n",
    "        # define the path to the Chrome driver\n",
    "        ### service = Service(executable_path={path to chromedriver executable})\n",
    "        # Options for Chrome driver\n",
    "        options = webdriver.ChromeOptions()\n",
    "        # Create a new instance of the Chrome driver\n",
    "        driver = webdriver.Chrome(service=service, options=options)\n",
    "\n",
    "        # 1 keyword locate - Examples: Analyst, Recruiter, Manager, etc.\n",
    "        # driver.get('https://www.linkedin.com/company/{your company}/people/?keywords={desired position}')\n",
    "        driver.get('https://www.linkedin.com/company/tesla-motors/people/?keywords=analyst')\n",
    "        # 2 keyword locate - Examples: Data Analyst, Data Engineer, Senior Recruiter, etc.\n",
    "        ### driver.get('https://www.linkedin.com/company/{your company}/people/?keywords={keyword [0]}%20{keyword [1]}')\n",
    "        ### driver.get('https://www.linkedin.com/company/tesla-motors/people/?keywords=data%20analyst')\n",
    "        \n",
    "        # Handle LinkedIn login \n",
    "        # Enter email\n",
    "        email = driver.find_element(By.ID, 'username')\n",
    "        ### email.send_keys({your email})\n",
    "        # Enter password\n",
    "        password = driver.find_element(By.ID, 'password')\n",
    "        ### password.send_keys({your password})\n",
    "        # Maximize window\n",
    "        driver.maximize_window()\n",
    "        \n",
    "        # Locate and click the \"Sign in\" button\n",
    "        signin_button = driver.find_element(By.XPATH, \"//button[normalize-space()='Sign in']\")\n",
    "        signin_button.click()\n",
    "        time.sleep(3)\n",
    "\n",
    "        # Find the unordered list element\n",
    "        ul_element = driver.find_element(By.XPATH, \"//ul[@class='display-flex list-style-none flex-wrap']\")\n",
    "\n",
    "        # Find all the a elements within the li elements of the unordered list and extract their href attributes\n",
    "        hrefs = [a.get_attribute(\"href\") for a in ul_element.find_elements(By.XPATH, \".//li//a\")]\n",
    "\n",
    "        # Print the hrefs\n",
    "        link_list = []\n",
    "        for href in hrefs:\n",
    "            if href not in link_list:\n",
    "                link_list.append(href)\n",
    "\n",
    "        time.sleep(10)\n",
    "        return link_list\n",
    "        "
   ]
  },
  {
   "cell_type": "code",
   "execution_count": null,
   "metadata": {},
   "outputs": [],
   "source": [
    "# Create an instance of the class\n",
    "my_scraper = Webscraper()\n",
    "# Call the method locate_links()\n",
    "links = my_scraper.locate_links()"
   ]
  },
  {
   "cell_type": "code",
   "execution_count": null,
   "metadata": {},
   "outputs": [],
   "source": [
    "# Print the links\n",
    "links"
   ]
  }
 ],
 "metadata": {
  "kernelspec": {
   "display_name": "Python 3",
   "language": "python",
   "name": "python3"
  },
  "language_info": {
   "codemirror_mode": {
    "name": "ipython",
    "version": 3
   },
   "file_extension": ".py",
   "mimetype": "text/x-python",
   "name": "python",
   "nbconvert_exporter": "python",
   "pygments_lexer": "ipython3",
   "version": "3.9.12"
  }
 },
 "nbformat": 4,
 "nbformat_minor": 2
}
